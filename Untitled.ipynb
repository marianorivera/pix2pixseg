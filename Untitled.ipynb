{
 "cells": [
  {
   "cell_type": "code",
   "execution_count": 1,
   "id": "89aa84c5-8992-45a0-98a0-131fc8ae0ca1",
   "metadata": {},
   "outputs": [],
   "source": [
    "import numpy as np\n",
    "import tensorflow as tf\n"
   ]
  },
  {
   "cell_type": "code",
   "execution_count": 29,
   "id": "0fc8ea21-7b7a-4cb6-9323-6f364b360b83",
   "metadata": {},
   "outputs": [],
   "source": [
    "def softargmax(x, numclasses, beta = 100.0):\n",
    "    alpha   = beta*x\n",
    "    alpha   = tf.nn.softmax(alpha, axis =-1)\n",
    "    indices = tf.range(numclasses, dtype=tf.float32)\n",
    "    indices = tf.reshape(indices, [1,1,1,numclasses])\n",
    "    output  = tf.math.multiply(alpha , indices)\n",
    "    output = tf.math.reduce_sum(output, axis=-1, keepdims=True)\n",
    "    return output"
   ]
  },
  {
   "cell_type": "code",
   "execution_count": 30,
   "id": "d35c2e2f-c436-4133-96f8-90a3081c4201",
   "metadata": {},
   "outputs": [
    {
     "data": {
      "text/plain": [
       "TensorShape([10, 2, 3, 4])"
      ]
     },
     "execution_count": 30,
     "metadata": {},
     "output_type": "execute_result"
    }
   ],
   "source": [
    "x = tf.random.normal((10,2,3,4),dtype=tf.dtypes.float32)\n",
    "x.shape"
   ]
  },
  {
   "cell_type": "code",
   "execution_count": 31,
   "id": "a6ad0a06-af80-467a-a7c0-dfd11a8bf70f",
   "metadata": {},
   "outputs": [],
   "source": [
    "y=softargmax(x, 4, beta = 10.0)\n",
    "yint = tf.cast(y, dtype=tf.int32)"
   ]
  },
  {
   "cell_type": "code",
   "execution_count": 32,
   "id": "a3b820b8-cb85-4c57-ad1d-a8a5c3866815",
   "metadata": {},
   "outputs": [
    {
     "data": {
      "text/plain": [
       "array([[7.6388984e-09, 0.0000000e+00, 9.9998641e-01],\n",
       "       [2.2677493e-01, 1.1347613e-07, 3.3873864e-02]], dtype=float32)"
      ]
     },
     "execution_count": 32,
     "metadata": {},
     "output_type": "execute_result"
    }
   ],
   "source": [
    "np.array(y-tf.cast(yint, dtype=tf.float32))[0,:,:,0]"
   ]
  },
  {
   "cell_type": "code",
   "execution_count": 15,
   "id": "f33f5cc9-e30f-4844-a2c0-ab7985bd2385",
   "metadata": {},
   "outputs": [
    {
     "data": {
      "text/plain": [
       "<tf.Tensor: shape=(10, 2, 3, 1), dtype=float32, numpy=\n",
       "array([[[[2.0000010e+00],\n",
       "         [1.0284290e+00],\n",
       "         [2.9999917e+00]],\n",
       "\n",
       "        [[2.2538421e+00],\n",
       "         [9.6087360e-01],\n",
       "         [2.0000031e+00]]],\n",
       "\n",
       "\n",
       "       [[[2.9999993e+00],\n",
       "         [2.9980876e+00],\n",
       "         [1.0294176e+00]],\n",
       "\n",
       "        [[2.0000410e+00],\n",
       "         [1.0000000e+00],\n",
       "         [2.1437376e+00]]],\n",
       "\n",
       "\n",
       "       [[[2.3067541e+00],\n",
       "         [2.0000076e+00],\n",
       "         [1.2776810e-12]],\n",
       "\n",
       "        [[1.9815408e+00],\n",
       "         [1.6161351e+00],\n",
       "         [1.1275325e+00]]],\n",
       "\n",
       "\n",
       "       [[[1.0051179e+00],\n",
       "         [9.9721050e-01],\n",
       "         [2.0000000e+00]],\n",
       "\n",
       "        [[1.9339409e+00],\n",
       "         [1.8950909e+00],\n",
       "         [1.0077510e+00]]],\n",
       "\n",
       "\n",
       "       [[[2.0055037e+00],\n",
       "         [2.1388133e+00],\n",
       "         [1.9180195e+00]],\n",
       "\n",
       "        [[6.2455438e-05],\n",
       "         [2.9373846e+00],\n",
       "         [2.0000024e+00]]],\n",
       "\n",
       "\n",
       "       [[[3.0000000e+00],\n",
       "         [1.9999988e+00],\n",
       "         [8.1822276e-01]],\n",
       "\n",
       "        [[1.0000000e+00],\n",
       "         [3.0000000e+00],\n",
       "         [4.6234956e-05]]],\n",
       "\n",
       "\n",
       "       [[[1.9998134e+00],\n",
       "         [4.9434581e-01],\n",
       "         [1.9391865e+00]],\n",
       "\n",
       "        [[6.2826133e-01],\n",
       "         [1.9778829e+00],\n",
       "         [2.4995987e+00]]],\n",
       "\n",
       "\n",
       "       [[[1.9385558e-02],\n",
       "         [2.0004630e+00],\n",
       "         [1.0078861e+00]],\n",
       "\n",
       "        [[2.2250938e+00],\n",
       "         [1.8096404e-01],\n",
       "         [2.9999998e+00]]],\n",
       "\n",
       "\n",
       "       [[[1.9998770e+00],\n",
       "         [1.0000143e+00],\n",
       "         [2.9987483e+00]],\n",
       "\n",
       "        [[2.8169901e+00],\n",
       "         [2.9807703e+00],\n",
       "         [8.6737454e-01]]],\n",
       "\n",
       "\n",
       "       [[[1.7049181e+00],\n",
       "         [2.7477469e+00],\n",
       "         [2.0198889e+00]],\n",
       "\n",
       "        [[1.6087377e+00],\n",
       "         [1.6149758e+00],\n",
       "         [1.0000000e+00]]]], dtype=float32)>"
      ]
     },
     "execution_count": 15,
     "metadata": {},
     "output_type": "execute_result"
    }
   ],
   "source": [
    "y"
   ]
  },
  {
   "cell_type": "code",
   "execution_count": null,
   "id": "d7208558-2e2a-4d96-a9e0-a71ec6e6f9c0",
   "metadata": {},
   "outputs": [],
   "source": []
  }
 ],
 "metadata": {
  "kernelspec": {
   "display_name": "Python 3 (ipykernel)",
   "language": "python",
   "name": "python3"
  },
  "language_info": {
   "codemirror_mode": {
    "name": "ipython",
    "version": 3
   },
   "file_extension": ".py",
   "mimetype": "text/x-python",
   "name": "python",
   "nbconvert_exporter": "python",
   "pygments_lexer": "ipython3",
   "version": "3.8.5"
  }
 },
 "nbformat": 4,
 "nbformat_minor": 5
}
